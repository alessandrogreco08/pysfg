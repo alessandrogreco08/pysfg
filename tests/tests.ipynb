{
 "cells": [
  {
   "cell_type": "code",
   "execution_count": null,
   "metadata": {},
   "outputs": [],
   "source": [
    "%pylab inline\n",
    "%load_ext autoreload\n",
    "%autoreload 2\n",
    "    \n",
    "import pysfg"
   ]
  },
  {
   "cell_type": "code",
   "execution_count": 15,
   "metadata": {},
   "outputs": [
    {
     "name": "stdout",
     "output_type": "stream",
     "text": [
      "Reading: \n",
      "/home/malte/pysfg/tests/data/ts_gold.dat\n",
      "/home/malte/pysfg/tests/data/sc_quartz.dat\n",
      "/home/malte/pysfg/tests/data/cc_gold.dat\n",
      "/home/malte/pysfg/tests/data/sc_d2o-dopc.dat\n",
      "/home/malte/pysfg/tests/data/bg_quartz.dat\n",
      "/home/malte/pysfg/tests/data/bg_d2o-docpe.dat\n"
     ]
    },
    {
     "data": {
      "text/plain": [
       "<Figure size 432x288 with 0 Axes>"
      ]
     },
     "metadata": {},
     "output_type": "display_data"
    }
   ],
   "source": [
    "# Import some data from a folder\n",
    "# This load the all_data variable\n",
    "%run read.py"
   ]
  },
  {
   "cell_type": "code",
   "execution_count": null,
   "metadata": {},
   "outputs": [],
   "source": [
    "d = all_data['/home/malte/pysfg/tests/data/ts_gold.dat']['data']\n",
    "dd = np.median(d, axis=[1])\n",
    "dd.shape"
   ]
  },
  {
   "cell_type": "code",
   "execution_count": null,
   "metadata": {},
   "outputs": [],
   "source": [
    "# Run an example calibration with some static data\n",
    "%run calibration."
   ]
  },
  {
   "cell_type": "code",
   "execution_count": null,
   "metadata": {},
   "outputs": [],
   "source": [
    "# Use imported data header to perform calibration \n",
    "q0 = all_data['/home/malte/pysfg/tests/data/sc_quartz.dat']\n",
    "\n",
    "qcV = pysfg.calibration.Victor(\n",
    "    q0['central_wl'], # Central wl of grating during experiment\n",
    "    q0['vis_wl'], # Central vis wl as set during experiment\n",
    "    q0['calib_central_wl'], # central wl during calibration\n",
    "    q0['calib_coeff'], # calibration coeficient in decreasing oder\n",
    ")\n",
    "qcV.wavenumber[800: 804]"
   ]
  },
  {
   "cell_type": "code",
   "execution_count": null,
   "metadata": {},
   "outputs": [],
   "source": [
    "cV = pysfg.calibration.from_victor_file('/home/malte/pysfg/tests/data/sc_quartz.dat')\n",
    "cV.wavenumber"
   ]
  },
  {
   "cell_type": "code",
   "execution_count": null,
   "metadata": {},
   "outputs": [],
   "source": [
    "cV.poly"
   ]
  },
  {
   "cell_type": "code",
   "execution_count": 24,
   "metadata": {},
   "outputs": [
    {
     "name": "stdout",
     "output_type": "stream",
     "text": [
      "Reading: \n",
      "./data/ts_gold.dat\n",
      "./data/sc_quartz.dat\n",
      "./data/cc_gold.dat\n",
      "./data/sc_d2o-dopc.dat\n",
      "./data/bg_quartz.dat\n",
      "./data/bg_d2o-docpe.dat\n"
     ]
    }
   ],
   "source": [
    "%run normalization.py"
   ]
  },
  {
   "cell_type": "code",
   "execution_count": 26,
   "metadata": {},
   "outputs": [
    {
     "data": {
      "text/plain": [
       "array([373., 369., 370., ..., 457., 452., 456.])"
      ]
     },
     "execution_count": 26,
     "metadata": {},
     "output_type": "execute_result"
    }
   ],
   "source": [
    "norm.intensity"
   ]
  },
  {
   "cell_type": "code",
   "execution_count": null,
   "metadata": {},
   "outputs": [],
   "source": [
    "fig, ax = plt.subplots()\n",
    "plt.plot(norm.wavenumber, norm.intensity)"
   ]
  },
  {
   "cell_type": "code",
   "execution_count": null,
   "metadata": {},
   "outputs": [],
   "source": []
  }
 ],
 "metadata": {
  "kernelspec": {
   "display_name": "sfg",
   "language": "python",
   "name": "sfg"
  },
  "language_info": {
   "codemirror_mode": {
    "name": "ipython",
    "version": 3
   },
   "file_extension": ".py",
   "mimetype": "text/x-python",
   "name": "python",
   "nbconvert_exporter": "python",
   "pygments_lexer": "ipython3",
   "version": "3.7.6"
  }
 },
 "nbformat": 4,
 "nbformat_minor": 4
}
