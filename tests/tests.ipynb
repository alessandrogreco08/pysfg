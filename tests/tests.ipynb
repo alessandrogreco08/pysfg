{
 "cells": [
  {
   "cell_type": "code",
   "execution_count": 1,
   "metadata": {},
   "outputs": [
    {
     "name": "stdout",
     "output_type": "stream",
     "text": [
      "Populating the interactive namespace from numpy and matplotlib\n"
     ]
    }
   ],
   "source": [
    "%pylab inline\n",
    "%load_ext autoreload\n",
    "%autoreload 2\n",
    "    \n",
    "import pysfg"
   ]
  },
  {
   "cell_type": "code",
   "execution_count": 2,
   "metadata": {},
   "outputs": [
    {
     "name": "stdout",
     "output_type": "stream",
     "text": [
      "Reading: \n",
      "/home/malte/pysfg/tests/data/ts_gold.dat\n",
      "/home/malte/pysfg/tests/data/sc_quartz.dat\n",
      "/home/malte/pysfg/tests/data/cc_gold.dat\n",
      "/home/malte/pysfg/tests/data/sc_d2o-dopc.dat\n",
      "/home/malte/pysfg/tests/data/bg_quartz.dat\n",
      "/home/malte/pysfg/tests/data/bg_d2o-docpe.dat\n"
     ]
    }
   ],
   "source": [
    "# Import some data from a folder\n",
    "# This load the all_data variable\n",
    "%run read.py"
   ]
  },
  {
   "cell_type": "code",
   "execution_count": 3,
   "metadata": {},
   "outputs": [
    {
     "name": "stdout",
     "output_type": "stream",
     "text": [
      "[3131.78 3130.96 3130.14 ... 1922.98 1922.28 1921.59]\n"
     ]
    }
   ],
   "source": [
    "# Run an example calibration with some static data\n",
    "%run calibration.py"
   ]
  },
  {
   "cell_type": "code",
   "execution_count": 4,
   "metadata": {},
   "outputs": [
    {
     "data": {
      "text/plain": [
       "array([2527.54, 2526.79, 2526.03, 2525.28])"
      ]
     },
     "execution_count": 4,
     "metadata": {},
     "output_type": "execute_result"
    }
   ],
   "source": [
    "# Use imported data header to perform calibration \n",
    "q0 = all_data['/home/malte/pysfg/tests/data/sc_quartz.dat']\n",
    "\n",
    "qcV = pysfg.calibration.Victor(\n",
    "    q0['central_wl'], # Central wl of grating during experiment\n",
    "    q0['vis_wl'], # Central vis wl as set during experiment\n",
    "    q0['calib_central_wl'], # central wl during calibration\n",
    "    q0['calib_coeff'], # calibration coeficient in decreasing oder\n",
    ")\n",
    "qcV.wavenumber[800: 804]"
   ]
  },
  {
   "cell_type": "code",
   "execution_count": 5,
   "metadata": {},
   "outputs": [
    {
     "data": {
      "text/plain": [
       "array([3157.63, 3156.81, 3155.99, ..., 1948.84, 1948.14, 1947.44])"
      ]
     },
     "execution_count": 5,
     "metadata": {},
     "output_type": "execute_result"
    }
   ],
   "source": [
    "cV = pysfg.get_calibration_from_victor_file('/home/malte/pysfg/tests/data/sc_quartz.dat')\n",
    "cV.wavenumber"
   ]
  },
  {
   "cell_type": "code",
   "execution_count": 6,
   "metadata": {},
   "outputs": [
    {
     "data": {
      "text/plain": [
       "array([3157.63, 3156.81, 3155.99, ..., 1948.84, 1948.14, 1947.44])"
      ]
     },
     "execution_count": 6,
     "metadata": {},
     "output_type": "execute_result"
    }
   ],
   "source": [
    "pysfg.get_wavenumber_from_victor_file('/home/malte/pysfg/tests/data/sc_quartz.dat')"
   ]
  },
  {
   "cell_type": "code",
   "execution_count": 21,
   "metadata": {},
   "outputs": [],
   "source": [
    "fname = '/home/malte/pysfg/tests/data/sc_quartz.dat'\n",
    "data = pysfg.read.victor.data_file(fname)\n",
    "\n",
    "s0 = pysfg.Spectrum(\n",
    "    intensity = np.median(data['data'][:, :, 0], axis=(0, 1)),\n",
    "    baseline = 300,\n",
    "    wavenumber = pysfg.get_calibration_from_victor_header(data).wavenumber\n",
    ")\n",
    "s1 = pysfg.Spectrum(\n",
    "    intensity = np.median(data['data'][:, :, 1], axis=(0, 1)),\n",
    "    baseline = 300,\n",
    "    wavenumber = pysfg.get_calibration_from_victor_header(data).wavenumber\n",
    ")"
   ]
  },
  {
   "cell_type": "code",
   "execution_count": 23,
   "metadata": {},
   "outputs": [
    {
     "data": {
      "image/png": "[encoded data removed]",
      "text/plain": [
       "<Figure size 432x288 with 1 Axes>"
      ]
     },
     "metadata": {
      "needs_background": "light"
     },
     "output_type": "display_data"
    }
   ],
   "source": [
    "fig, ax = plt.subplots()\n",
    "plt.plot(s0.wavenumber, s0.intensity)\n",
    "plt.plot(s1.wavenumber, s1.intensity)\n",
    "plt.show()"
   ]
  },
  {
   "cell_type": "code",
   "execution_count": null,
   "metadata": {},
   "outputs": [],
   "source": []
  }
 ],
 "metadata": {
  "kernelspec": {
   "display_name": "sfg",
   "language": "python",
   "name": "sfg"
  },
  "language_info": {
   "codemirror_mode": {
    "name": "ipython",
    "version": 3
   },
   "file_extension": ".py",
   "mimetype": "text/x-python",
   "name": "python",
   "nbconvert_exporter": "python",
   "pygments_lexer": "ipython3",
   "version": "3.7.6"
  }
 },
 "nbformat": 4,
 "nbformat_minor": 4
}
