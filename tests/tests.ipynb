{
 "cells": [
  {
   "cell_type": "code",
   "execution_count": null,
   "metadata": {},
   "outputs": [],
   "source": [
    "%pylab inline\n",
    "%load_ext autoreload\n",
    "%autoreload 2\n",
    "    \n",
    "import pysfg"
   ]
  },
  {
   "cell_type": "code",
   "execution_count": null,
   "metadata": {},
   "outputs": [],
   "source": [
    "# Import some data from a folder\n",
    "# This load the all_data variable\n",
    "%run read.py"
   ]
  },
  {
   "cell_type": "code",
   "execution_count": null,
   "metadata": {},
   "outputs": [],
   "source": [
    "d = all_data['./data/ts_gold.dat']['data']\n",
    "dd = np.median(d, axis=[1])\n",
    "dd.shape"
   ]
  },
  {
   "cell_type": "code",
   "execution_count": null,
   "metadata": {},
   "outputs": [],
   "source": [
    "# Run an example calibration with some static data\n",
    "%run calibration.py"
   ]
  },
  {
   "cell_type": "code",
   "execution_count": null,
   "metadata": {},
   "outputs": [],
   "source": [
    "# Use imported data header to perform calibration \n",
    "q0 = all_data['./data/sc_quartz.dat']\n",
    "\n",
    "qcV = pysfg.calibration.Victor(\n",
    "    q0['central_wl'], # Central wl of grating during experiment\n",
    "    q0['vis_wl'], # Central vis wl as set during experiment\n",
    "    q0['calib_central_wl'], # central wl during calibration\n",
    "    q0['calib_coeff'], # calibration coeficient in decreasing oder\n",
    ")\n",
    "qcV.wavenumber[800: 804]"
   ]
  },
  {
   "cell_type": "code",
   "execution_count": null,
   "metadata": {},
   "outputs": [],
   "source": [
    "cV = pysfg.calibration.from_victor_file('./data/sc_quartz.dat')\n",
    "cV.wavenumber"
   ]
  },
  {
   "cell_type": "code",
   "execution_count": null,
   "metadata": {},
   "outputs": [],
   "source": [
    "%run normalization.py"
   ]
  },
  {
   "cell_type": "code",
   "execution_count": null,
   "metadata": {},
   "outputs": [],
   "source": [
    "fig, ax = plt.subplots()\n",
    "plt.plot(norm.wavenumber, norm.basesubed)"
   ]
  },
  {
   "cell_type": "code",
   "execution_count": null,
   "metadata": {},
   "outputs": [],
   "source": [
    "%run spectrum.py"
   ]
  },
  {
   "cell_type": "code",
   "execution_count": null,
   "metadata": {},
   "outputs": [],
   "source": [
    "fig, ax = plt.subplots()\n",
    "plt.plot(spectrum.wavenumber, spectrum.normalized)"
   ]
  },
  {
   "cell_type": "code",
   "execution_count": null,
   "metadata": {},
   "outputs": [],
   "source": [
    "%run pump_probe.py"
   ]
  },
  {
   "cell_type": "code",
   "execution_count": null,
   "metadata": {},
   "outputs": [],
   "source": [
    "pumped.pp_delay"
   ]
  },
  {
   "cell_type": "code",
   "execution_count": null,
   "metadata": {},
   "outputs": [],
   "source": [
    "fig, ax = plt.subplots()\n",
    "plt.contourf(\n",
    "    pumped.pp_delay,\n",
    "    pumped.wavenumber,\n",
    "    pumped.basesubed.T,\n",
    ")\n",
    "plt.xlabel('Time/fs')\n",
    "plt.ylabel('SFG/Intensity')"
   ]
  },
  {
   "cell_type": "code",
   "execution_count": null,
   "metadata": {},
   "outputs": [],
   "source": [
    "fig, ax = plt.subplots()\n",
    "plt.plot(\n",
    "    pumped.wavenumber,\n",
    "    pumped.basesubed[10]\n",
    ")\n",
    "plt.plot(\n",
    "    probed.wavenumber,\n",
    "    probed.basesubed[10]\n",
    ")"
   ]
  },
  {
   "cell_type": "code",
   "execution_count": null,
   "metadata": {},
   "outputs": [],
   "source": [
    "pixel = slice(400, 1200)\n",
    "delays = slice(5, 18)\n",
    "\n",
    "fig, ax = plt.subplots()\n",
    "plt.contourf(\n",
    "    pumpProbe.pp_delay[delays],\n",
    "    pumpProbe.wavenumber[pixel],\n",
    "    pumpProbe.basesubed.T[pixel, delays],\n",
    ")"
   ]
  },
  {
   "cell_type": "code",
   "execution_count": null,
   "metadata": {},
   "outputs": [],
   "source": [
    "pixel = slice(400, 1200)\n",
    "delays = slice(5, 18)\n",
    "\n",
    "fig, ax = plt.subplots()\n",
    "plt.contourf(\n",
    "    pumpProbe.pp_delay[delays],\n",
    "    pumpProbe.wavenumber[pixel],\n",
    "    pumpProbe.normalized.T[pixel, delays],\n",
    ")"
   ]
  },
  {
   "cell_type": "code",
   "execution_count": null,
   "metadata": {},
   "outputs": [],
   "source": [
    "pixel = slice(400, 1200)\n",
    "\n",
    "fig, ax = plt.subplots()\n",
    "plt.plot(\n",
    "    pumpProbe.wavenumber[pixel], pumpProbe.normalized[20, pixel]\n",
    ")"
   ]
  },
  {
   "cell_type": "code",
   "execution_count": null,
   "metadata": {},
   "outputs": [],
   "source": [
    "import pandas as pd\n",
    "df = pd.DataFrame(\n",
    "    [\n",
    "        pumped.wavenumber,\n",
    "        pumped.intensity,\n",
    "        pumped.norm,\n",
    "        pumped.baseline,\n",
    "    ]\n",
    ")\n",
    "    \n",
    "df  "
   ]
  },
  {
   "cell_type": "code",
   "execution_count": null,
   "metadata": {},
   "outputs": [],
   "source": [
    "pumped.norm.shape"
   ]
  },
  {
   "cell_type": "code",
   "execution_count": null,
   "metadata": {},
   "outputs": [],
   "source": [
    "pumped.intensity - pumped.baseline"
   ]
  },
  {
   "cell_type": "code",
   "execution_count": null,
   "metadata": {},
   "outputs": [],
   "source": [
    "np.shape(pumped.baseline * )"
   ]
  },
  {
   "cell_type": "code",
   "execution_count": null,
   "metadata": {},
   "outputs": [],
   "source": [
    "    [\n",
    "        pumped.wavenumber,\n",
    "        pumped.intensity,\n",
    "        pumped.norm,\n",
    "        pumped.baseline,\n",
    "    ]"
   ]
  },
  {
   "cell_type": "code",
   "execution_count": null,
   "metadata": {},
   "outputs": [],
   "source": [
    "norm.df"
   ]
  },
  {
   "cell_type": "code",
   "execution_count": null,
   "metadata": {},
   "outputs": [],
   "source": []
  }
 ],
 "metadata": {
  "kernelspec": {
   "display_name": "sfg",
   "language": "python",
   "name": "sfg"
  },
  "language_info": {
   "codemirror_mode": {
    "name": "ipython",
    "version": 3
   },
   "file_extension": ".py",
   "mimetype": "text/x-python",
   "name": "python",
   "nbconvert_exporter": "python",
   "pygments_lexer": "ipython3",
   "version": "3.7.6"
  }
 },
 "nbformat": 4,
 "nbformat_minor": 4
}
