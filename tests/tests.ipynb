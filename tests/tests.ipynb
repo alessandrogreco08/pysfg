{
 "cells": [
  {
   "cell_type": "code",
   "execution_count": null,
   "metadata": {},
   "outputs": [],
   "source": [
    "%pylab inline\n",
    "%load_ext autoreload\n",
    "%autoreload 2\n",
    "    \n",
    "import pysfg"
   ]
  },
  {
   "cell_type": "code",
   "execution_count": null,
   "metadata": {},
   "outputs": [],
   "source": [
    "# Import some data from a folder\n",
    "# This load the all_data variable\n",
    "%run read.py"
   ]
  },
  {
   "cell_type": "code",
   "execution_count": null,
   "metadata": {},
   "outputs": [],
   "source": [
    "d = all_data['/home/malte/pysfg/tests/data/ts_gold.dat']['data']\n",
    "dd = np.median(d, axis=[1])\n",
    "dd.shape"
   ]
  },
  {
   "cell_type": "code",
   "execution_count": null,
   "metadata": {},
   "outputs": [],
   "source": [
    "# Run an example calibration with some static data\n",
    "%run calibration.py"
   ]
  },
  {
   "cell_type": "code",
   "execution_count": null,
   "metadata": {},
   "outputs": [],
   "source": [
    "# Use imported data header to perform calibration \n",
    "q0 = all_data['/home/malte/pysfg/tests/data/sc_quartz.dat']\n",
    "\n",
    "qcV = pysfg.calibration.Victor(\n",
    "    q0['central_wl'], # Central wl of grating during experiment\n",
    "    q0['vis_wl'], # Central vis wl as set during experiment\n",
    "    q0['calib_central_wl'], # central wl during calibration\n",
    "    q0['calib_coeff'], # calibration coeficient in decreasing oder\n",
    ")\n",
    "qcV.wavenumber[800: 804]"
   ]
  },
  {
   "cell_type": "code",
   "execution_count": null,
   "metadata": {},
   "outputs": [],
   "source": [
    "cV = pysfg.calibration.from_victor_file('/home/malte/pysfg/tests/data/sc_quartz.dat')\n",
    "cV.wavenumber"
   ]
  },
  {
   "cell_type": "code",
   "execution_count": null,
   "metadata": {},
   "outputs": [],
   "source": [
    "cV.poly"
   ]
  },
  {
   "cell_type": "code",
   "execution_count": null,
   "metadata": {},
   "outputs": [],
   "source": [
    "pysfg.calibration.from_victor_file_wavenumber('/home/malte/pysfg/tests/data/sc_quartz.dat')"
   ]
  },
  {
   "cell_type": "code",
   "execution_count": null,
   "metadata": {},
   "outputs": [],
   "source": [
    "fname = '/home/malte/pysfg/tests/data/sc_quartz.dat'\n",
    "data = pysfg.read.victor.data_file(fname)\n",
    "\n",
    "s0 = pysfg.Spectrum(\n",
    "    intensity = np.median(data['data'][:, :, 0], axis=(0, 1)),\n",
    "    baseline = 300,\n",
    "    wavenumber = pysfg.get_calibration_from_victor_header(data).wavenumber\n",
    ")\n",
    "s1 = pysfg.Spectrum(\n",
    "    intensity = np.median(data['data'][:, :, 1], axis=(0, 1)),\n",
    "    baseline = 300,\n",
    "    wavenumber = pysfg.get_calibration_from_victor_header(data).wavenumber\n",
    ")"
   ]
  },
  {
   "cell_type": "code",
   "execution_count": null,
   "metadata": {},
   "outputs": [],
   "source": [
    "s0.baseline"
   ]
  },
  {
   "cell_type": "code",
   "execution_count": null,
   "metadata": {},
   "outputs": [],
   "source": [
    "fig, ax = plt.subplots()\n",
    "plt.plot(s0.wavenumber, s0.intensity)\n",
    "plt.plot(s1.wavenumber, s1.intensity)\n",
    "plt.show()"
   ]
  },
  {
   "cell_type": "code",
   "execution_count": null,
   "metadata": {},
   "outputs": [],
   "source": [
    "d - 1600"
   ]
  },
  {
   "cell_type": "code",
   "execution_count": null,
   "metadata": {},
   "outputs": [],
   "source": [
    "data['data'].shape"
   ]
  },
  {
   "cell_type": "code",
   "execution_count": null,
   "metadata": {},
   "outputs": [],
   "source": [
    "np.median(data['data'][:, :, 0], axis=(0, 1)).shape"
   ]
  },
  {
   "cell_type": "code",
   "execution_count": null,
   "metadata": {},
   "outputs": [],
   "source": []
  }
 ],
 "metadata": {
  "kernelspec": {
   "display_name": "sfg",
   "language": "python",
   "name": "sfg"
  },
  "language_info": {
   "codemirror_mode": {
    "name": "ipython",
    "version": 3
   },
   "file_extension": ".py",
   "mimetype": "text/x-python",
   "name": "python",
   "nbconvert_exporter": "python",
   "pygments_lexer": "ipython3",
   "version": "3.7.6"
  }
 },
 "nbformat": 4,
 "nbformat_minor": 4
}
